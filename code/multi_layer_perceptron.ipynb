{
  "nbformat": 4,
  "nbformat_minor": 0,
  "metadata": {
    "colab": {
      "provenance": [],
      "toc_visible": true
    },
    "kernelspec": {
      "name": "python3",
      "display_name": "Python 3"
    }
  },
  "cells": [
    {
      "cell_type": "markdown",
      "source": [
        "# Multi-layer Perceptron: Learning by Error-Backpropagation"
      ],
      "metadata": {
        "id": "QXoi8_6MbBiY"
      }
    },
    {
      "cell_type": "markdown",
      "source": [
        "# Overview\n",
        "This Jupyter Notebook goes through a simple simulation of a multi-layer perceptron that learns how to map inputs to outputs using error backpropagation."
      ],
      "metadata": {
        "id": "CSDqNkGPbLYr"
      }
    },
    {
      "cell_type": "code",
      "metadata": {
        "id": "zmuJuhtcfWHg"
      },
      "source": [
        "# Libraries\n",
        "import numpy as np\n",
        "import scipy\n",
        "import matplotlib.pyplot as plt"
      ],
      "execution_count": null,
      "outputs": []
    },
    {
      "cell_type": "code",
      "metadata": {
        "id": "fEHeTpy71_fO"
      },
      "source": [
        "# Function 1: trainnet_perceptron\n",
        "#-----------------------------------------------------------------\n",
        "# Trains a network on desired input and output mappings using the delta\n",
        "# learning rule with specified growth rate and momentum. Input activation is\n",
        "# propagated through the network each iteration using the logistic activation\n",
        "# function. The actual output is compared to the desired output. The error\n",
        "# indicates how much the connection weights through each layer should change\n",
        "# using the generalized delta rule. These weight changes are backpropagated\n",
        "# through each layer.\n",
        "#\n",
        "# Returns a list of weights, Wt, over all training epochs (decided by user),\n",
        "# and total network error, toterr, over epochs.\n",
        "#\n",
        "# Usage:\n",
        "#\n",
        "# trainnet_perceptron(W,input,dout,unitslayer,epochs,err,eta,mu)\n",
        "#\n",
        "# W           - List of connection weight matrices for each layer of connections.\n",
        "#               This is initialized as a matrix of random weights for each\n",
        "#               layer if set as NULL.\n",
        "# input       - Array of input patterns (rows: units; columns: patterns)\n",
        "# dout        - Array of desired output pattern (rows: units; columns: patterns)\n",
        "# unitslayers - Vector of number of units in each layer of units\n",
        "# epochs      - Number of cycles before network stops training\n",
        "# err         - Error threshold below which to stop training\n",
        "# eta         - Growth rate, blame\n",
        "# mu          - Momentum\n",
        "\n",
        "def trainnet_perceptron(W,input,dout,unitslayer,epochs,err,eta,mu):\n",
        "\n",
        "  # Initialize parameters\n",
        "  ninput    = np.shape(input)[1]       # No. of input units\n",
        "  npats     = np.shape(input)[0]       # No. of training patterns\n",
        "  nlayers   = np.size(unitslayer) - 1  # No. of connection layers\n",
        "  Wt        = [0]                      # Weights over epochs\n",
        "  hWt       = [0]                      # Held weights over epochs\n",
        "  toterr    = [err + 10]               # Set arbitrary start total network error\n",
        "\n",
        "  # Add bias units\n",
        "  for i in range(nlayers):\n",
        "    unitslayer[i] = unitslayer[i] + 1\n",
        "\n",
        "  # Initialize W and hold W matrices\n",
        "  if W is None:\n",
        "\n",
        "    W            = []\n",
        "    holdpatternW = []\n",
        "\n",
        "    # Initialize connection layers\n",
        "    for k in range(nlayers):\n",
        "      hW  = np.random.uniform(-1,1,(unitslayer[k],unitslayer[k+1]))\n",
        "      hhW = np.zeros((unitslayer[k],unitslayer[k+1]))\n",
        "\n",
        "      # Remove connection to next layer bias unit\n",
        "      if k != nlayers-1:\n",
        "        hW[:,unitslayer[k+1]-1]=0\n",
        "        hhW[:,unitslayer[k+1]-1]=0\n",
        "\n",
        "      W.append(hW)\n",
        "      holdpatternW.append(hhW)\n",
        "\n",
        "  else:\n",
        "\n",
        "    holdpatternW = []\n",
        "\n",
        "    # Initialize connection layers\n",
        "    for k in range(nlayers):\n",
        "      hhW = np.zeros((unitslayer[k],unitslayer[k+1]))\n",
        "\n",
        "      # Check and remove connection to next layer bias unit\n",
        "      if k != nlayers-1:\n",
        "        if unitslayer[k+1]==np.shape(W[k])[1]:\n",
        "          W[k][:,unitslayer[k+1]-1]=0\n",
        "\n",
        "      holdpatternW.append(hhW)\n",
        "\n",
        "  zeroholdpatternW=holdpatternW.copy()\n",
        "\n",
        "  # End W initialization\n",
        "\n",
        "  # Train W\n",
        "  for t in range(epochs):   # Epoch loop\n",
        "    if toterr[t]>=err:      # Error loop\n",
        "\n",
        "      # Set parameters\n",
        "      paterr     = []\n",
        "\n",
        "      # Momentum term\n",
        "      M = []\n",
        "      for k in range(nlayers):\n",
        "        M.append(holdpatternW[k]*mu)\n",
        "\n",
        "      holdpatternW = zeroholdpatternW.copy()\n",
        "      holdlayerW = [np.empty_like(w) for w in holdpatternW]\n",
        "\n",
        "      # Learn weight changes for each pattern (but do not apply yet)\n",
        "      for p in range(npats):\n",
        "\n",
        "        # Set parameters\n",
        "        ai      = []\n",
        "        ai.append(input[p,:])\n",
        "\n",
        "        # Feedforward: Propagate activity\n",
        "        for k in range(nlayers):\n",
        "\n",
        "          # Set bias input unit activation to 1\n",
        "          if k == 0:\n",
        "            ai[k] = np.append(ai[k],1)\n",
        "          else:\n",
        "            ai[k][-1] = 1\n",
        "\n",
        "          # Logistic activation function\n",
        "          net_input = np.dot(ai[k],W[k])\n",
        "          ai.append(scipy.special.expit(net_input))\n",
        "\n",
        "        # Backprop: Calculate change in weights\n",
        "        error = [np.empty(unitslayer[k+1]) for k in range(nlayers)]\n",
        "\n",
        "        for k in range(nlayers,0,-1):\n",
        "\n",
        "          # For output layer\n",
        "          if k==nlayers:\n",
        "\n",
        "            # Calculate output unit error\n",
        "            error[k-1]=(dout[p,:]-ai[k])*ai[k]*(1-ai[k]) #??\n",
        "\n",
        "            # Calculate pattern error\n",
        "            paterr.append(sum((dout[p,:]-ai[k])**2))\n",
        "\n",
        "            # Calculate layer weight change\n",
        "            holdlayerW[k-1]=eta*np.outer(np.transpose(ai[k-1]),error[k-1]) #??\n",
        "\n",
        "          # For hidden layers\n",
        "          else:\n",
        "\n",
        "            # Calculate hidden unit error\n",
        "            error[k-1]=np.dot(error[k],np.transpose(W[k]))*ai[k]*(1-ai[k])\n",
        "\n",
        "            # Calculate layer weight change\n",
        "            holdlayerW[k-1]=eta*np.outer(np.transpose(ai[k-1]),error[k-1]) #??\n",
        "\n",
        "            # Account for bias unit\n",
        "            holdlayerW[k-1][:,unitslayer[k]-1]=0\n",
        "\n",
        "        # Sum pattern dW\n",
        "        for l in range(len(holdlayerW)):\n",
        "          holdpatternW[l] = holdlayerW[l] + holdpatternW[l]\n",
        "\n",
        "      # Batch add dW to original weights W\n",
        "      Wtemp = W.copy()\n",
        "      for l in range(len(W)):\n",
        "        W[l] = Wtemp[l] + holdpatternW[l] + M[l]\n",
        "\n",
        "      # Calculate total error across patterns\n",
        "      toterr.append(sum(paterr))\n",
        "\n",
        "      # Update variables over epochs\n",
        "      Wt.append(W[:])\n",
        "\n",
        "  return Wt, toterr"
      ],
      "execution_count": null,
      "outputs": []
    },
    {
      "cell_type": "code",
      "metadata": {
        "id": "eBQ-miMy2M5t"
      },
      "source": [
        "# Function 2: testnet_perceptron\n",
        "#-----------------------------------------------------------------\n",
        "# Tests a trained perceptron network, W, for the output, a, given\n",
        "# an input. Each unit state is determined using a logistic activation\n",
        "# function. Returns a, a vector of activation states for each layer\n",
        "# of units including the input layer.\n",
        "#\n",
        "# Usage:\n",
        "#\n",
        "# testnet_perceptron(W,input,unitslayer)\n",
        "#\n",
        "# W          - Trained connection weight matrix, must be list format\n",
        "#\t           (see trainnet_perceptron.R)\n",
        "# input      - Test pattern vector (units: rows)\n",
        "# unitslayer - Vector of number of units in each layer of units\n",
        "\n",
        "def testnet_perceptron(W,input,unitslayer):\n",
        "\n",
        "  # Set parameters\n",
        "  Wc = W.copy()\n",
        "  nlayers = len(Wc) # No. of connection layers\n",
        "  a = [input.copy()]\n",
        "\n",
        "  # Feedforward\n",
        "  for k in range(nlayers):\n",
        "\n",
        "    # Select non-bias weights in network\n",
        "    Wc_temp = Wc[k].copy()\n",
        "    Wc[k] = Wc_temp[0:np.shape(Wc[k])[0]-1]\n",
        "\n",
        "    # Logistic activation function on non-bias units\n",
        "    if k != nlayers-1:\n",
        "      net_input = np.dot(a[k],Wc[k])[0:np.shape(Wc[k])[1]-1]\n",
        "    else:\n",
        "      net_input = np.dot(a[k],Wc[k])\n",
        "    a.append(scipy.special.expit(net_input))\n",
        "\n",
        "  return a"
      ],
      "execution_count": null,
      "outputs": []
    },
    {
      "cell_type": "code",
      "metadata": {
        "id": "zG43kATi282g"
      },
      "source": [
        "# Distort input vectors\n",
        "def distort_pattern(a,p):\n",
        "\n",
        "  ap = a.copy()\n",
        "  for unit in range(np.shape(ap)[0]-1):\n",
        "    if np.random.uniform(0,1,1)<=p:\n",
        "      if ap[unit]==1:\n",
        "        ap[unit]=0\n",
        "      else:\n",
        "        ap[unit]=1\n",
        "\n",
        "  return ap"
      ],
      "execution_count": null,
      "outputs": []
    },
    {
      "cell_type": "code",
      "metadata": {
        "id": "eqk-P0wl2-xm"
      },
      "source": [
        "# Plotting setup\n",
        "def plot_toterr(toterr):\n",
        "  plt.plot(toterr)\n",
        "  plt.title(\"Total error timecourse\")\n",
        "  plt.xlabel(\"Iteration\")\n",
        "  plt.ylabel(\"Total Error\")"
      ],
      "execution_count": null,
      "outputs": []
    },
    {
      "cell_type": "code",
      "metadata": {
        "id": "NIx13C_oor8j"
      },
      "source": [
        "# Training input activation patterns using non-overlapping categories\n",
        "# Input\n",
        "a = np.array([[0,0,0,0,0,1,0,0,0,0],\n",
        "              [0,0,0,0,1,0,0,0,0,1],\n",
        "              [0,0,0,1,0,0,0,0,1,0],\n",
        "              [0,0,1,0,0,0,0,1,0,0],\n",
        "              [0,1,0,0,0,0,1,0,0,0],\n",
        "              [1,0,0,0,0,1,0,0,0,0],\n",
        "              [0,0,0,0,1,0,0,0,0,0],\n",
        "              [0,0,0,1,0,0,0,0,1,0]])\n",
        "\n",
        "# Desired output\n",
        "o = np.array([[1,0,0,0],\n",
        "              [1,0,0,0],\n",
        "              [0,1,0,0],\n",
        "              [0,1,0,0],\n",
        "              [0,0,1,0],\n",
        "              [0,0,1,0],\n",
        "              [0,0,0,1],\n",
        "              [0,0,0,1]])\n",
        "\n",
        "# Hyperparameters\n",
        "epochs = 100000\n",
        "err    = 0.001\n",
        "eta    = 0.3 # learning rate\n",
        "mu     = 0.7 # alpha, momentum"
      ],
      "execution_count": null,
      "outputs": []
    },
    {
      "cell_type": "code",
      "metadata": {
        "id": "vPAAI3NDoRtr",
        "outputId": "92a5b1c9-d631-4581-832d-f10ae176b151",
        "colab": {
          "base_uri": "https://localhost:8080/",
          "height": 472
        }
      },
      "source": [
        "Wt,toterr=trainnet_perceptron(None,a,o,[10,20,4],epochs,err,eta,mu)\n",
        "plot_toterr(toterr)"
      ],
      "execution_count": null,
      "outputs": [
        {
          "output_type": "display_data",
          "data": {
            "text/plain": [
              "<Figure size 640x480 with 1 Axes>"
            ],
            "image/png": "[encoded data removed]"
          },
          "metadata": {}
        }
      ]
    },
    {
      "cell_type": "code",
      "source": [
        "testnet_perceptron(Wt[-1],a[0],[10,20,4])"
      ],
      "metadata": {
        "colab": {
          "base_uri": "https://localhost:8080/"
        },
        "id": "saVRdwZycSsi",
        "outputId": "8bd9e220-604d-4146-fcea-b0cbe7aafeb9"
      },
      "execution_count": null,
      "outputs": [
        {
          "output_type": "execute_result",
          "data": {
            "text/plain": [
              "[array([0, 0, 0, 0, 0, 1, 0, 0, 0, 0]),\n",
              " array([0.66367054, 0.28339011, 0.11234262, 0.38036512, 0.34167191,\n",
              "        0.28346374, 0.75891734, 0.5208368 , 0.87423833, 0.12668377,\n",
              "        0.64391807, 0.80603908, 0.75644991, 0.39809443, 0.79144723,\n",
              "        0.3329741 , 0.54526934, 0.21175048, 0.20442063, 0.50821945]),\n",
              " array([0.99849887, 0.00560453, 0.00886128, 0.00274654])]"
            ]
          },
          "metadata": {},
          "execution_count": 12
        }
      ]
    },
    {
      "cell_type": "code",
      "source": [],
      "metadata": {
        "id": "3M8u_gVhci-l"
      },
      "execution_count": null,
      "outputs": []
    }
  ]
}